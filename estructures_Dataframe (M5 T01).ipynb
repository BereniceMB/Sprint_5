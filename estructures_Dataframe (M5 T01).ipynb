{
 "cells": [
  {
   "cell_type": "markdown",
   "id": "a2368236",
   "metadata": {},
   "source": [
    "## <span style=color:red><b>Tasca M4 T02</b></span> \n",
    "_Enviar l'URL a un repositori anomenat estructures_Dataframe que contingui la solució. S'ha d'entregar cada exercici en un mateix fitxer i en un repositori._\n",
    "\n",
    "\n",
    "\n",
    "- [X] <span style=color:red><b>__Exercici 1:__</b></span> \n",
    "Realitza la pràctica del notebook a GitHub __\"03 EXAMINING DATA\"__ (fes una còpia i executa els comandaments amb el mateix dataset county.txt). Aquest exercici consisteix a observar les diferents possibilitats que ofereixen les diferents llibreries de visualització gràfica.\n",
    "   - [__03 EXAMINING DATA__](https://github.com/BIDDL3/Examining-Data/blob/main/03%20EXAMINING%20DATA.ipynb)"
   ]
  },
  {
   "cell_type": "code",
   "execution_count": 211,
   "id": "d9c146cd",
   "metadata": {},
   "outputs": [],
   "source": [
    "# importing libraries\n",
    "import numpy as np\n",
    "import pandas as pd\n",
    "import matplotlib.pyplot as plt\n",
    "import seaborn as sns\n",
    "import warnings\n",
    "\n",
    "warnings.filterwarnings('ignore')"
   ]
  },
  {
   "cell_type": "code",
   "execution_count": 30,
   "id": "659fc53d",
   "metadata": {},
   "outputs": [],
   "source": [
    "#Open the choosen file\n",
    "#tips = pd.read_csv('tips.csv', sep='\\t', encoding='utf-8')\n",
    "tips = pd.read_csv('tips.csv')"
   ]
  },
  {
   "cell_type": "code",
   "execution_count": 31,
   "id": "365c8045",
   "metadata": {},
   "outputs": [
    {
     "data": {
      "text/plain": [
       "(244, 7)"
      ]
     },
     "execution_count": 31,
     "metadata": {},
     "output_type": "execute_result"
    }
   ],
   "source": [
    "tips.shape"
   ]
  },
  {
   "cell_type": "code",
   "execution_count": 32,
   "id": "92db5679",
   "metadata": {},
   "outputs": [
    {
     "data": {
      "text/plain": [
       "Index(['total_bill', 'tip', 'sex', 'smoker', 'day', 'time', 'size'], dtype='object')"
      ]
     },
     "execution_count": 32,
     "metadata": {},
     "output_type": "execute_result"
    }
   ],
   "source": [
    "tips.columns"
   ]
  },
  {
   "cell_type": "code",
   "execution_count": 33,
   "id": "17a2af86",
   "metadata": {},
   "outputs": [],
   "source": [
    "#tips.describe().round(3)"
   ]
  },
  {
   "cell_type": "code",
   "execution_count": 35,
   "id": "8a1332c5",
   "metadata": {},
   "outputs": [
    {
     "data": {
      "text/html": [
       "<div>\n",
       "<style scoped>\n",
       "    .dataframe tbody tr th:only-of-type {\n",
       "        vertical-align: middle;\n",
       "    }\n",
       "\n",
       "    .dataframe tbody tr th {\n",
       "        vertical-align: top;\n",
       "    }\n",
       "\n",
       "    .dataframe thead th {\n",
       "        text-align: right;\n",
       "    }\n",
       "</style>\n",
       "<table border=\"1\" class=\"dataframe\">\n",
       "  <thead>\n",
       "    <tr style=\"text-align: right;\">\n",
       "      <th></th>\n",
       "      <th>total_bill</th>\n",
       "      <th>tip</th>\n",
       "      <th>sex</th>\n",
       "      <th>smoker</th>\n",
       "      <th>day</th>\n",
       "      <th>time</th>\n",
       "      <th>size</th>\n",
       "    </tr>\n",
       "  </thead>\n",
       "  <tbody>\n",
       "    <tr>\n",
       "      <th>0</th>\n",
       "      <td>16.99</td>\n",
       "      <td>1.01</td>\n",
       "      <td>Female</td>\n",
       "      <td>No</td>\n",
       "      <td>Sun</td>\n",
       "      <td>Dinner</td>\n",
       "      <td>2</td>\n",
       "    </tr>\n",
       "    <tr>\n",
       "      <th>1</th>\n",
       "      <td>10.34</td>\n",
       "      <td>1.66</td>\n",
       "      <td>Male</td>\n",
       "      <td>No</td>\n",
       "      <td>Sun</td>\n",
       "      <td>Dinner</td>\n",
       "      <td>3</td>\n",
       "    </tr>\n",
       "    <tr>\n",
       "      <th>2</th>\n",
       "      <td>21.01</td>\n",
       "      <td>3.50</td>\n",
       "      <td>Male</td>\n",
       "      <td>No</td>\n",
       "      <td>Sun</td>\n",
       "      <td>Dinner</td>\n",
       "      <td>3</td>\n",
       "    </tr>\n",
       "    <tr>\n",
       "      <th>3</th>\n",
       "      <td>23.68</td>\n",
       "      <td>3.31</td>\n",
       "      <td>Male</td>\n",
       "      <td>No</td>\n",
       "      <td>Sun</td>\n",
       "      <td>Dinner</td>\n",
       "      <td>2</td>\n",
       "    </tr>\n",
       "    <tr>\n",
       "      <th>4</th>\n",
       "      <td>24.59</td>\n",
       "      <td>3.61</td>\n",
       "      <td>Female</td>\n",
       "      <td>No</td>\n",
       "      <td>Sun</td>\n",
       "      <td>Dinner</td>\n",
       "      <td>4</td>\n",
       "    </tr>\n",
       "    <tr>\n",
       "      <th>5</th>\n",
       "      <td>25.29</td>\n",
       "      <td>4.71</td>\n",
       "      <td>Male</td>\n",
       "      <td>No</td>\n",
       "      <td>Sun</td>\n",
       "      <td>Dinner</td>\n",
       "      <td>4</td>\n",
       "    </tr>\n",
       "    <tr>\n",
       "      <th>6</th>\n",
       "      <td>8.77</td>\n",
       "      <td>2.00</td>\n",
       "      <td>Male</td>\n",
       "      <td>No</td>\n",
       "      <td>Sun</td>\n",
       "      <td>Dinner</td>\n",
       "      <td>2</td>\n",
       "    </tr>\n",
       "    <tr>\n",
       "      <th>7</th>\n",
       "      <td>26.88</td>\n",
       "      <td>3.12</td>\n",
       "      <td>Male</td>\n",
       "      <td>No</td>\n",
       "      <td>Sun</td>\n",
       "      <td>Dinner</td>\n",
       "      <td>4</td>\n",
       "    </tr>\n",
       "    <tr>\n",
       "      <th>8</th>\n",
       "      <td>15.04</td>\n",
       "      <td>1.96</td>\n",
       "      <td>Male</td>\n",
       "      <td>No</td>\n",
       "      <td>Sun</td>\n",
       "      <td>Dinner</td>\n",
       "      <td>2</td>\n",
       "    </tr>\n",
       "    <tr>\n",
       "      <th>9</th>\n",
       "      <td>14.78</td>\n",
       "      <td>3.23</td>\n",
       "      <td>Male</td>\n",
       "      <td>No</td>\n",
       "      <td>Sun</td>\n",
       "      <td>Dinner</td>\n",
       "      <td>2</td>\n",
       "    </tr>\n",
       "  </tbody>\n",
       "</table>\n",
       "</div>"
      ],
      "text/plain": [
       "   total_bill   tip     sex smoker  day    time  size\n",
       "0       16.99  1.01  Female     No  Sun  Dinner     2\n",
       "1       10.34  1.66    Male     No  Sun  Dinner     3\n",
       "2       21.01  3.50    Male     No  Sun  Dinner     3\n",
       "3       23.68  3.31    Male     No  Sun  Dinner     2\n",
       "4       24.59  3.61  Female     No  Sun  Dinner     4\n",
       "5       25.29  4.71    Male     No  Sun  Dinner     4\n",
       "6        8.77  2.00    Male     No  Sun  Dinner     2\n",
       "7       26.88  3.12    Male     No  Sun  Dinner     4\n",
       "8       15.04  1.96    Male     No  Sun  Dinner     2\n",
       "9       14.78  3.23    Male     No  Sun  Dinner     2"
      ]
     },
     "execution_count": 35,
     "metadata": {},
     "output_type": "execute_result"
    }
   ],
   "source": [
    "tips.head(10)"
   ]
  },
  {
   "cell_type": "markdown",
   "id": "fc2caae8",
   "metadata": {},
   "source": [
    "### Mean "
   ]
  },
  {
   "cell_type": "markdown",
   "id": "5bac38b3",
   "metadata": {},
   "source": [
    "### EXERCISE - 3.1\n",
    "\n",
    "Compare both Equations above.\n",
    "\n",
    "What does $x_1$ correspond to?,\n",
    "and $x_2$?\n",
    "Can you infer a general meaning to what $x_i$ might represent?\n",
    "What was $n$ in this sample of emails?\n",
    "\n",
    "__SOLUTION (in our case)__\n",
    "\n",
    "$x_1$ corresponds to the total bill of the first person (16.99),\n",
    "$x_2$ to the total bill of the second person (10.34),\n",
    "$x_i$ represents the total bill of the $i$-th person, and\n",
    "$n$ corresponds to the number of customers in the dataset.\n",
    "The sample size was $n= 244$."
   ]
  },
  {
   "cell_type": "code",
   "execution_count": 36,
   "id": "e2ee1179",
   "metadata": {},
   "outputs": [
    {
     "data": {
      "text/plain": [
       "19.785942622950824"
      ]
     },
     "execution_count": 36,
     "metadata": {},
     "output_type": "execute_result"
    }
   ],
   "source": [
    "tips.total_bill.mean()"
   ]
  },
  {
   "cell_type": "markdown",
   "id": "05276e79",
   "metadata": {},
   "source": [
    "EXERCISE - 3.2\n",
    "\n",
    "The __average__ number of characters across all emails (__population__) can be estimated using the __sample data__.\n",
    "\n",
    "Based on the sample of 50 _emails_, what would be a reasonable estimate of $\\mu_x$, the __mean__ number of characters in all emails in the email dataset? (Recall that _email50_ is a sample from _email_.)\n",
    "\n",
    "__SOLUTION__\n",
    "\n",
    "The __sample mean__, 19.78, may provide a reasonable estimate of $\\mu_x$.\n",
    "\n",
    "While this number will not be perfect, it provides a __point estimate__ of the __population mean__."
   ]
  },
  {
   "cell_type": "markdown",
   "id": "83559603",
   "metadata": {},
   "source": [
    "### Variance and Standard Deviation"
   ]
  },
  {
   "cell_type": "code",
   "execution_count": 42,
   "id": "d3b7dc4b",
   "metadata": {},
   "outputs": [
    {
     "name": "stdout",
     "output_type": "stream",
     "text": [
      "The standard deviation of the total bill is:\n",
      "\n"
     ]
    },
    {
     "data": {
      "text/plain": [
       "8.902411954856856"
      ]
     },
     "execution_count": 42,
     "metadata": {},
     "output_type": "execute_result"
    }
   ],
   "source": [
    "print('The standard deviation of the total bill is:\\n')\n",
    "tips.total_bill.std()"
   ]
  },
  {
   "cell_type": "code",
   "execution_count": 44,
   "id": "5a89fe0b",
   "metadata": {},
   "outputs": [
    {
     "name": "stdout",
     "output_type": "stream",
     "text": [
      "The mean of the total bill is:\n",
      "\n"
     ]
    },
    {
     "data": {
      "text/plain": [
       "19.785942622950824"
      ]
     },
     "execution_count": 44,
     "metadata": {},
     "output_type": "execute_result"
    }
   ],
   "source": [
    "print('The mean of the total bill is:\\n')\n",
    "tips.total_bill.mean()"
   ]
  },
  {
   "cell_type": "code",
   "execution_count": 37,
   "id": "cff27769",
   "metadata": {},
   "outputs": [
    {
     "data": {
      "text/plain": [
       "10.883530668093968"
      ]
     },
     "execution_count": 37,
     "metadata": {},
     "output_type": "execute_result"
    }
   ],
   "source": [
    "tips.total_bill.mean()- tips.total_bill.std()"
   ]
  },
  {
   "cell_type": "code",
   "execution_count": null,
   "id": "a1b67732",
   "metadata": {},
   "outputs": [],
   "source": []
  },
  {
   "cell_type": "markdown",
   "id": "d965812d",
   "metadata": {},
   "source": [
    "### EXERCISE - 3.2\n",
    "\n",
    "Using __Modality__, we can distinguish between the first plot (bimodal) and the last two (unimodal).\n",
    "\n",
    "Using __Skewness__, we can distinguish between the last plot (right skewed) and the first two.\n",
    "\n",
    "While a picture, like a __histogram__, tells a more __complete__ story, we can use __Modality__ and shape (__Symmetry/Skew__) to characterize basic information about a distribution."
   ]
  },
  {
   "cell_type": "code",
   "execution_count": 47,
   "id": "ada50405",
   "metadata": {},
   "outputs": [
    {
     "data": {
      "text/plain": [
       "Text(0.5, 0, 'Total bill')"
      ]
     },
     "execution_count": 47,
     "metadata": {},
     "output_type": "execute_result"
    },
    {
     "data": {
      "image/png": "[encoded data removed]",
      "text/plain": [
       "<Figure size 432x288 with 1 Axes>"
      ]
     },
     "metadata": {
      "needs_background": "light"
     },
     "output_type": "display_data"
    }
   ],
   "source": [
    "tips.hist(['total_bill'], bins=20)\n",
    "plt.title('Spam email - # Characters')\n",
    "plt.ylabel('Frequency')\n",
    "plt.xlabel('Total bill')"
   ]
  },
  {
   "cell_type": "markdown",
   "id": "e0acf4de",
   "metadata": {},
   "source": [
    "### EXERCISE - 3.7\n",
    "\n",
    "Describe the __distribution__ of the __total_bill__ variable using the histogram display above.\n",
    "\n",
    "The description should incorporate the __center__, __variability__, and __shape__ of the distribution, and it should also be placed in context.\n",
    "\n",
    "__SOLUTION__\n",
    "\n",
    "The distribution of total bill counts is unimodal. The skewness is positive since the data is piled up to the left. Many of the counts fall near the Mean at 19.78, and most fall within one Standard Deviation (8.9) of the mean. There few bills of less than $10\\$$ or of more than $40\\$$."
   ]
  },
  {
   "cell_type": "code",
   "execution_count": 56,
   "id": "99987e5f",
   "metadata": {},
   "outputs": [
    {
     "data": {
      "image/png": "[encoded data removed]",
      "text/plain": [
       "<Figure size 1224x432 with 3 Axes>"
      ]
     },
     "metadata": {
      "needs_background": "light"
     },
     "output_type": "display_data"
    }
   ],
   "source": [
    "fig = plt.figure(figsize=(17,6))\n",
    "\n",
    "ax1 = fig.add_subplot(1, 3, 1)\n",
    "\n",
    "ax1.hist(tips['tip'], bins=20)\n",
    "plt.title('Tips')\n",
    "plt.ylabel('Frequency')\n",
    "plt.xlabel('tips (%)')\n",
    "\n",
    "ax2 = fig.add_subplot(1, 3, 2)\n",
    "\n",
    "ax2.hist(tips['total_bill'], bins=20)\n",
    "\n",
    "plt.title('Algo')\n",
    "plt.ylabel('Frequency')\n",
    "plt.xlabel('total_bill')\n",
    "\n",
    "ax3 = fig.add_subplot(1, 3, 3)\n",
    "\n",
    "ax3.hist(tips['size'], bins=6)\n",
    "plt.title('Number of customers')\n",
    "plt.ylabel('Frequency')\n",
    "plt.xlabel('Algo')\n",
    "\n",
    "plt.tight_layout()"
   ]
  },
  {
   "cell_type": "markdown",
   "id": "763fc2b5",
   "metadata": {},
   "source": [
    "### Box Plots"
   ]
  },
  {
   "cell_type": "code",
   "execution_count": 57,
   "id": "2cb7f60e",
   "metadata": {},
   "outputs": [
    {
     "data": {
      "text/plain": [
       "count    244.000000\n",
       "mean      19.785943\n",
       "std        8.902412\n",
       "min        3.070000\n",
       "25%       13.347500\n",
       "50%       17.795000\n",
       "75%       24.127500\n",
       "max       50.810000\n",
       "Name: total_bill, dtype: float64"
      ]
     },
     "execution_count": 57,
     "metadata": {},
     "output_type": "execute_result"
    }
   ],
   "source": [
    "(tips['total_bill']).describe()"
   ]
  },
  {
   "cell_type": "code",
   "execution_count": 58,
   "id": "528681ac",
   "metadata": {},
   "outputs": [
    {
     "data": {
      "text/plain": [
       "count    244.000000\n",
       "mean       2.998279\n",
       "std        1.383638\n",
       "min        1.000000\n",
       "25%        2.000000\n",
       "50%        2.900000\n",
       "75%        3.562500\n",
       "max       10.000000\n",
       "Name: tip, dtype: float64"
      ]
     },
     "execution_count": 58,
     "metadata": {},
     "output_type": "execute_result"
    }
   ],
   "source": [
    "(tips['tip']).describe()"
   ]
  },
  {
   "cell_type": "code",
   "execution_count": 60,
   "id": "ab0499eb",
   "metadata": {},
   "outputs": [
    {
     "data": {
      "text/plain": [
       "2.9"
      ]
     },
     "execution_count": 60,
     "metadata": {},
     "output_type": "execute_result"
    }
   ],
   "source": [
    "(tips['tip']).median()"
   ]
  },
  {
   "cell_type": "code",
   "execution_count": 61,
   "id": "1b06c632",
   "metadata": {},
   "outputs": [
    {
     "data": {
      "image/png": "[encoded data removed]",
      "text/plain": [
       "<Figure size 432x288 with 1 Axes>"
      ]
     },
     "metadata": {},
     "output_type": "display_data"
    }
   ],
   "source": [
    "sns.set(style=\"whitegrid\")\n",
    "ax = sns.boxplot(x=tips[\"tip\"], color='lightblue', fliersize=5,  orient='v', linewidth=1 , width=0.3)\n",
    "\n"
   ]
  },
  {
   "cell_type": "markdown",
   "id": "2e858c52",
   "metadata": {},
   "source": [
    "### EXERCISE - 3.8\n",
    "\n",
    "1. What percent of the data fall between $Q1$ and the median?\n",
    "2. What percent is between the median and $Q3$?\n",
    "\n",
    "__SOLUTION__\n",
    "\n",
    "Since $Q1$ and $Q3$ capture the middle 50% of the data and the __median__ splits the data in the __middle__, 25% of the data fall between $Q1$ and the median, and another 25% falls between the median and $Q3$."
   ]
  },
  {
   "cell_type": "code",
   "execution_count": null,
   "id": "da8f465b",
   "metadata": {},
   "outputs": [],
   "source": []
  },
  {
   "cell_type": "markdown",
   "id": "76db0b65",
   "metadata": {},
   "source": [
    "_______________________________"
   ]
  },
  {
   "cell_type": "markdown",
   "id": "f15906ae",
   "metadata": {},
   "source": [
    "- [X] <span style=color:red><b>__Exercici 2:__</b></span>\n",
    "Fes les tasques de preprocessat  i adequació del Dataset que disposem en el repositori de GitHub __PRE-PROCESSING-DATA__ amb l'objectiu de preparar-lo i treballar-lo com a dataframe per a extreure'n informació.\n",
    "   - [__PRE-PROCESSING-DATA/movies.dat__](https://github.com/BIDDL3/PRE-PROCESSING-DATA/blob/main/movies.dat)\n",
    " \n",
    "__Important__: El resultat final ha de ser un dataframe amb les variables de _nom de la pel·lícula_, _any_ i _genere_. També és important quedar-se amb un sol gènere per a cada pel·lícula!"
   ]
  },
  {
   "cell_type": "code",
   "execution_count": 73,
   "id": "ae54b143",
   "metadata": {},
   "outputs": [],
   "source": [
    "# importing libraries\n",
    "import scipy\n",
    "import numpy as np\n",
    "import pandas as pd\n",
    "import re\n",
    "import sys"
   ]
  },
  {
   "cell_type": "code",
   "execution_count": 74,
   "id": "038c2176",
   "metadata": {},
   "outputs": [
    {
     "name": "stdout",
     "output_type": "stream",
     "text": [
      "1::Toy Story (1995)::Animation|Children's|Comedy\n",
      "2::Jumanji (1995)::Adventure|Children's|Fantasy\n",
      "3::Grumpier Old Men (1995)::Comedy|Romance\n",
      "4::Waiting to Exhale (1995)::Comedy|Drama\n",
      "5::Father of the Bride Part II (1995)::Comedy\n",
      "6::Heat (1995)::Action|Crime|Thriller\n",
      "7::Sabrina (1995)::Comedy|Romance\n",
      "8::Tom and Huck (1995)::Adventure|Children's\n",
      "9::Sudden Death (1995)::Action\n",
      "10::GoldenEye (1995)::Action|Adventure|Thriller\n",
      "11::American President, The (1995)::Comedy|Drama|Romance\n",
      "12::Dracula: Dead and Loving It (1995)::Comedy|Horror\n",
      "13::Balto (1995)::Animation|Children's\n",
      "14::Nixon (1995)::Drama\n",
      "15::Cutthroat Island (1995)::Action|Adventure|Romance\n",
      "16::Casino (1995)::Drama|Thriller\n",
      "17::Sense and Sensibility (1995)::Drama|Romance\n",
      "18::Four Rooms (1995)::Thriller\n",
      "19::Ace Ventura: When Nature Calls (1995)::Comedy\n",
      "20::Money Train (1995)::Action\n",
      "21::Get Shorty (1995)::Action|Comedy|Drama\n",
      "22::Copycat (1995)::Crime|Drama|Thriller\n",
      "23::Assassins (1995)::Thriller\n",
      "24::Powder (1995)::Drama|Sci-Fi\n",
      "25::Leaving Las Vegas (1995):\n"
     ]
    }
   ],
   "source": [
    "archivo = open(\"movies.txt\")\n",
    "archiv = archivo.read()\n",
    "print(archiv[:1023])"
   ]
  },
  {
   "cell_type": "code",
   "execution_count": 208,
   "id": "07ad09c3",
   "metadata": {},
   "outputs": [
    {
     "data": {
      "text/html": [
       "<div>\n",
       "<style scoped>\n",
       "    .dataframe tbody tr th:only-of-type {\n",
       "        vertical-align: middle;\n",
       "    }\n",
       "\n",
       "    .dataframe tbody tr th {\n",
       "        vertical-align: top;\n",
       "    }\n",
       "\n",
       "    .dataframe thead th {\n",
       "        text-align: right;\n",
       "    }\n",
       "</style>\n",
       "<table border=\"1\" class=\"dataframe\">\n",
       "  <thead>\n",
       "    <tr style=\"text-align: right;\">\n",
       "      <th></th>\n",
       "      <th>A</th>\n",
       "      <th>Número de película</th>\n",
       "      <th>B</th>\n",
       "      <th>Título</th>\n",
       "      <th>Año</th>\n",
       "      <th>E</th>\n",
       "      <th>Géneros</th>\n",
       "      <th>G</th>\n",
       "    </tr>\n",
       "  </thead>\n",
       "  <tbody>\n",
       "    <tr>\n",
       "      <th>0</th>\n",
       "      <td>NaN</td>\n",
       "      <td>1.0</td>\n",
       "      <td>::</td>\n",
       "      <td>Toy Story</td>\n",
       "      <td>1995</td>\n",
       "      <td>::</td>\n",
       "      <td>Animation|Children's|Comedy</td>\n",
       "      <td>NaN</td>\n",
       "    </tr>\n",
       "    <tr>\n",
       "      <th>1</th>\n",
       "      <td>NaN</td>\n",
       "      <td>2.0</td>\n",
       "      <td>::</td>\n",
       "      <td>Jumanji</td>\n",
       "      <td>1995</td>\n",
       "      <td>::</td>\n",
       "      <td>Adventure|Children's|Fantasy</td>\n",
       "      <td>NaN</td>\n",
       "    </tr>\n",
       "    <tr>\n",
       "      <th>2</th>\n",
       "      <td>NaN</td>\n",
       "      <td>3.0</td>\n",
       "      <td>::</td>\n",
       "      <td>Grumpier Old Men</td>\n",
       "      <td>1995</td>\n",
       "      <td>::</td>\n",
       "      <td>Comedy|Romance</td>\n",
       "      <td>NaN</td>\n",
       "    </tr>\n",
       "    <tr>\n",
       "      <th>3</th>\n",
       "      <td>NaN</td>\n",
       "      <td>4.0</td>\n",
       "      <td>::</td>\n",
       "      <td>Waiting to Exhale</td>\n",
       "      <td>1995</td>\n",
       "      <td>::</td>\n",
       "      <td>Comedy|Drama</td>\n",
       "      <td>NaN</td>\n",
       "    </tr>\n",
       "    <tr>\n",
       "      <th>4</th>\n",
       "      <td>NaN</td>\n",
       "      <td>5.0</td>\n",
       "      <td>::</td>\n",
       "      <td>Father of the Bride Part II</td>\n",
       "      <td>1995</td>\n",
       "      <td>::</td>\n",
       "      <td>Comedy</td>\n",
       "      <td>NaN</td>\n",
       "    </tr>\n",
       "    <tr>\n",
       "      <th>...</th>\n",
       "      <td>...</td>\n",
       "      <td>...</td>\n",
       "      <td>...</td>\n",
       "      <td>...</td>\n",
       "      <td>...</td>\n",
       "      <td>...</td>\n",
       "      <td>...</td>\n",
       "      <td>...</td>\n",
       "    </tr>\n",
       "    <tr>\n",
       "      <th>3878</th>\n",
       "      <td>NaN</td>\n",
       "      <td>3948.0</td>\n",
       "      <td>::</td>\n",
       "      <td>Meet the Parents</td>\n",
       "      <td>2000</td>\n",
       "      <td>::</td>\n",
       "      <td>Comedy</td>\n",
       "      <td>NaN</td>\n",
       "    </tr>\n",
       "    <tr>\n",
       "      <th>3879</th>\n",
       "      <td>NaN</td>\n",
       "      <td>3949.0</td>\n",
       "      <td>::</td>\n",
       "      <td>Requiem for a Dream</td>\n",
       "      <td>2000</td>\n",
       "      <td>::</td>\n",
       "      <td>Drama</td>\n",
       "      <td>NaN</td>\n",
       "    </tr>\n",
       "    <tr>\n",
       "      <th>3880</th>\n",
       "      <td>NaN</td>\n",
       "      <td>3950.0</td>\n",
       "      <td>::</td>\n",
       "      <td>Tigerland</td>\n",
       "      <td>2000</td>\n",
       "      <td>::</td>\n",
       "      <td>Drama</td>\n",
       "      <td>NaN</td>\n",
       "    </tr>\n",
       "    <tr>\n",
       "      <th>3881</th>\n",
       "      <td>NaN</td>\n",
       "      <td>3951.0</td>\n",
       "      <td>::</td>\n",
       "      <td>Two Family House</td>\n",
       "      <td>2000</td>\n",
       "      <td>::</td>\n",
       "      <td>Drama</td>\n",
       "      <td>NaN</td>\n",
       "    </tr>\n",
       "    <tr>\n",
       "      <th>3882</th>\n",
       "      <td>NaN</td>\n",
       "      <td>3952.0</td>\n",
       "      <td>::</td>\n",
       "      <td>Contender, The</td>\n",
       "      <td>2000</td>\n",
       "      <td>::</td>\n",
       "      <td>Drama|Thriller</td>\n",
       "      <td>NaN</td>\n",
       "    </tr>\n",
       "  </tbody>\n",
       "</table>\n",
       "<p>3883 rows × 8 columns</p>\n",
       "</div>"
      ],
      "text/plain": [
       "        A  Número de película   B                       Título   Año   E  \\\n",
       "0     NaN                 1.0  ::                    Toy Story  1995  ::   \n",
       "1     NaN                 2.0  ::                      Jumanji  1995  ::   \n",
       "2     NaN                 3.0  ::             Grumpier Old Men  1995  ::   \n",
       "3     NaN                 4.0  ::            Waiting to Exhale  1995  ::   \n",
       "4     NaN                 5.0  ::  Father of the Bride Part II  1995  ::   \n",
       "...   ...                 ...  ..                          ...   ...  ..   \n",
       "3878  NaN              3948.0  ::             Meet the Parents  2000  ::   \n",
       "3879  NaN              3949.0  ::          Requiem for a Dream  2000  ::   \n",
       "3880  NaN              3950.0  ::                    Tigerland  2000  ::   \n",
       "3881  NaN              3951.0  ::             Two Family House  2000  ::   \n",
       "3882  NaN              3952.0  ::               Contender, The  2000  ::   \n",
       "\n",
       "                           Géneros   G  \n",
       "0      Animation|Children's|Comedy NaN  \n",
       "1     Adventure|Children's|Fantasy NaN  \n",
       "2                   Comedy|Romance NaN  \n",
       "3                     Comedy|Drama NaN  \n",
       "4                           Comedy NaN  \n",
       "...                            ...  ..  \n",
       "3878                        Comedy NaN  \n",
       "3879                         Drama NaN  \n",
       "3880                         Drama NaN  \n",
       "3881                         Drama NaN  \n",
       "3882                Drama|Thriller NaN  \n",
       "\n",
       "[3883 rows x 8 columns]"
      ]
     },
     "execution_count": 208,
     "metadata": {},
     "output_type": "execute_result"
    }
   ],
   "source": [
    "import pandas as pd\n",
    "\n",
    "moviess = pd.read_csv('movies.txt', \n",
    "                        #delimiter=\"::\", engine='python', header=None, \n",
    "                        delimiter=r'([0-9]+)(:{2})(.+) (\\([0-9]{4}\\))(:{2})(.+)',\n",
    "                        engine='python', header=None,\n",
    "                        names=['A','Número de película','B', 'Título','Año','E','Géneros','G'])\n",
    "moviess['Año']=moviess['Año'].str.replace(\"(\",\"\", regex=True)\n",
    "moviess['Año']=moviess['Año'].str.replace(\")\",\"\", regex=True)\n",
    "\n",
    "moviess"
   ]
  },
  {
   "cell_type": "code",
   "execution_count": 209,
   "id": "f52dbca8",
   "metadata": {},
   "outputs": [
    {
     "data": {
      "text/html": [
       "<div>\n",
       "<style scoped>\n",
       "    .dataframe tbody tr th:only-of-type {\n",
       "        vertical-align: middle;\n",
       "    }\n",
       "\n",
       "    .dataframe tbody tr th {\n",
       "        vertical-align: top;\n",
       "    }\n",
       "\n",
       "    .dataframe thead th {\n",
       "        text-align: right;\n",
       "    }\n",
       "</style>\n",
       "<table border=\"1\" class=\"dataframe\">\n",
       "  <thead>\n",
       "    <tr style=\"text-align: right;\">\n",
       "      <th></th>\n",
       "      <th>Número de película</th>\n",
       "      <th>Título</th>\n",
       "      <th>Año</th>\n",
       "      <th>Géneros</th>\n",
       "    </tr>\n",
       "  </thead>\n",
       "  <tbody>\n",
       "    <tr>\n",
       "      <th>0</th>\n",
       "      <td>1.0</td>\n",
       "      <td>Toy Story</td>\n",
       "      <td>1995</td>\n",
       "      <td>Animation|Children's|Comedy</td>\n",
       "    </tr>\n",
       "    <tr>\n",
       "      <th>1</th>\n",
       "      <td>2.0</td>\n",
       "      <td>Jumanji</td>\n",
       "      <td>1995</td>\n",
       "      <td>Adventure|Children's|Fantasy</td>\n",
       "    </tr>\n",
       "    <tr>\n",
       "      <th>2</th>\n",
       "      <td>3.0</td>\n",
       "      <td>Grumpier Old Men</td>\n",
       "      <td>1995</td>\n",
       "      <td>Comedy|Romance</td>\n",
       "    </tr>\n",
       "    <tr>\n",
       "      <th>3</th>\n",
       "      <td>4.0</td>\n",
       "      <td>Waiting to Exhale</td>\n",
       "      <td>1995</td>\n",
       "      <td>Comedy|Drama</td>\n",
       "    </tr>\n",
       "    <tr>\n",
       "      <th>4</th>\n",
       "      <td>5.0</td>\n",
       "      <td>Father of the Bride Part II</td>\n",
       "      <td>1995</td>\n",
       "      <td>Comedy</td>\n",
       "    </tr>\n",
       "    <tr>\n",
       "      <th>...</th>\n",
       "      <td>...</td>\n",
       "      <td>...</td>\n",
       "      <td>...</td>\n",
       "      <td>...</td>\n",
       "    </tr>\n",
       "    <tr>\n",
       "      <th>3878</th>\n",
       "      <td>3948.0</td>\n",
       "      <td>Meet the Parents</td>\n",
       "      <td>2000</td>\n",
       "      <td>Comedy</td>\n",
       "    </tr>\n",
       "    <tr>\n",
       "      <th>3879</th>\n",
       "      <td>3949.0</td>\n",
       "      <td>Requiem for a Dream</td>\n",
       "      <td>2000</td>\n",
       "      <td>Drama</td>\n",
       "    </tr>\n",
       "    <tr>\n",
       "      <th>3880</th>\n",
       "      <td>3950.0</td>\n",
       "      <td>Tigerland</td>\n",
       "      <td>2000</td>\n",
       "      <td>Drama</td>\n",
       "    </tr>\n",
       "    <tr>\n",
       "      <th>3881</th>\n",
       "      <td>3951.0</td>\n",
       "      <td>Two Family House</td>\n",
       "      <td>2000</td>\n",
       "      <td>Drama</td>\n",
       "    </tr>\n",
       "    <tr>\n",
       "      <th>3882</th>\n",
       "      <td>3952.0</td>\n",
       "      <td>Contender, The</td>\n",
       "      <td>2000</td>\n",
       "      <td>Drama|Thriller</td>\n",
       "    </tr>\n",
       "  </tbody>\n",
       "</table>\n",
       "<p>3883 rows × 4 columns</p>\n",
       "</div>"
      ],
      "text/plain": [
       "      Número de película                       Título   Año  \\\n",
       "0                    1.0                    Toy Story  1995   \n",
       "1                    2.0                      Jumanji  1995   \n",
       "2                    3.0             Grumpier Old Men  1995   \n",
       "3                    4.0            Waiting to Exhale  1995   \n",
       "4                    5.0  Father of the Bride Part II  1995   \n",
       "...                  ...                          ...   ...   \n",
       "3878              3948.0             Meet the Parents  2000   \n",
       "3879              3949.0          Requiem for a Dream  2000   \n",
       "3880              3950.0                    Tigerland  2000   \n",
       "3881              3951.0             Two Family House  2000   \n",
       "3882              3952.0               Contender, The  2000   \n",
       "\n",
       "                           Géneros  \n",
       "0      Animation|Children's|Comedy  \n",
       "1     Adventure|Children's|Fantasy  \n",
       "2                   Comedy|Romance  \n",
       "3                     Comedy|Drama  \n",
       "4                           Comedy  \n",
       "...                            ...  \n",
       "3878                        Comedy  \n",
       "3879                         Drama  \n",
       "3880                         Drama  \n",
       "3881                         Drama  \n",
       "3882                Drama|Thriller  \n",
       "\n",
       "[3883 rows x 4 columns]"
      ]
     },
     "execution_count": 209,
     "metadata": {},
     "output_type": "execute_result"
    }
   ],
   "source": [
    "#Borramos primero las columnas que no queremos\n",
    "moviess.drop(columns=['A','B', 'E','G'], inplace=True)\n",
    "moviess"
   ]
  },
  {
   "cell_type": "markdown",
   "id": "f3d1697c",
   "metadata": {},
   "source": [
    "Como nos piden sólo un género hacemos lo siguiente:"
   ]
  },
  {
   "cell_type": "code",
   "execution_count": 210,
   "id": "97120620",
   "metadata": {},
   "outputs": [
    {
     "data": {
      "text/html": [
       "<div>\n",
       "<style scoped>\n",
       "    .dataframe tbody tr th:only-of-type {\n",
       "        vertical-align: middle;\n",
       "    }\n",
       "\n",
       "    .dataframe tbody tr th {\n",
       "        vertical-align: top;\n",
       "    }\n",
       "\n",
       "    .dataframe thead th {\n",
       "        text-align: right;\n",
       "    }\n",
       "</style>\n",
       "<table border=\"1\" class=\"dataframe\">\n",
       "  <thead>\n",
       "    <tr style=\"text-align: right;\">\n",
       "      <th></th>\n",
       "      <th>Número de película</th>\n",
       "      <th>Título</th>\n",
       "      <th>Año</th>\n",
       "      <th>Género</th>\n",
       "    </tr>\n",
       "  </thead>\n",
       "  <tbody>\n",
       "    <tr>\n",
       "      <th>0</th>\n",
       "      <td>1.0</td>\n",
       "      <td>Toy Story</td>\n",
       "      <td>1995</td>\n",
       "      <td>Animation</td>\n",
       "    </tr>\n",
       "    <tr>\n",
       "      <th>1</th>\n",
       "      <td>2.0</td>\n",
       "      <td>Jumanji</td>\n",
       "      <td>1995</td>\n",
       "      <td>Adventure</td>\n",
       "    </tr>\n",
       "    <tr>\n",
       "      <th>2</th>\n",
       "      <td>3.0</td>\n",
       "      <td>Grumpier Old Men</td>\n",
       "      <td>1995</td>\n",
       "      <td>Comedy</td>\n",
       "    </tr>\n",
       "    <tr>\n",
       "      <th>3</th>\n",
       "      <td>4.0</td>\n",
       "      <td>Waiting to Exhale</td>\n",
       "      <td>1995</td>\n",
       "      <td>Comedy</td>\n",
       "    </tr>\n",
       "    <tr>\n",
       "      <th>4</th>\n",
       "      <td>5.0</td>\n",
       "      <td>Father of the Bride Part II</td>\n",
       "      <td>1995</td>\n",
       "      <td>Comedy</td>\n",
       "    </tr>\n",
       "    <tr>\n",
       "      <th>...</th>\n",
       "      <td>...</td>\n",
       "      <td>...</td>\n",
       "      <td>...</td>\n",
       "      <td>...</td>\n",
       "    </tr>\n",
       "    <tr>\n",
       "      <th>3878</th>\n",
       "      <td>3948.0</td>\n",
       "      <td>Meet the Parents</td>\n",
       "      <td>2000</td>\n",
       "      <td>Comedy</td>\n",
       "    </tr>\n",
       "    <tr>\n",
       "      <th>3879</th>\n",
       "      <td>3949.0</td>\n",
       "      <td>Requiem for a Dream</td>\n",
       "      <td>2000</td>\n",
       "      <td>Drama</td>\n",
       "    </tr>\n",
       "    <tr>\n",
       "      <th>3880</th>\n",
       "      <td>3950.0</td>\n",
       "      <td>Tigerland</td>\n",
       "      <td>2000</td>\n",
       "      <td>Drama</td>\n",
       "    </tr>\n",
       "    <tr>\n",
       "      <th>3881</th>\n",
       "      <td>3951.0</td>\n",
       "      <td>Two Family House</td>\n",
       "      <td>2000</td>\n",
       "      <td>Drama</td>\n",
       "    </tr>\n",
       "    <tr>\n",
       "      <th>3882</th>\n",
       "      <td>3952.0</td>\n",
       "      <td>Contender, The</td>\n",
       "      <td>2000</td>\n",
       "      <td>Drama</td>\n",
       "    </tr>\n",
       "  </tbody>\n",
       "</table>\n",
       "<p>3883 rows × 4 columns</p>\n",
       "</div>"
      ],
      "text/plain": [
       "      Número de película                       Título   Año     Género\n",
       "0                    1.0                    Toy Story  1995  Animation\n",
       "1                    2.0                      Jumanji  1995  Adventure\n",
       "2                    3.0             Grumpier Old Men  1995     Comedy\n",
       "3                    4.0            Waiting to Exhale  1995     Comedy\n",
       "4                    5.0  Father of the Bride Part II  1995     Comedy\n",
       "...                  ...                          ...   ...        ...\n",
       "3878              3948.0             Meet the Parents  2000     Comedy\n",
       "3879              3949.0          Requiem for a Dream  2000      Drama\n",
       "3880              3950.0                    Tigerland  2000      Drama\n",
       "3881              3951.0             Two Family House  2000      Drama\n",
       "3882              3952.0               Contender, The  2000      Drama\n",
       "\n",
       "[3883 rows x 4 columns]"
      ]
     },
     "execution_count": 210,
     "metadata": {},
     "output_type": "execute_result"
    }
   ],
   "source": [
    "moviess['Género']=moviess['Géneros'].str.split('|', 1).str[0].str.strip()\n",
    "moviess.drop(columns=['Géneros'], inplace=True)\n",
    "\n",
    "moviess"
   ]
  },
  {
   "cell_type": "markdown",
   "id": "1a073421",
   "metadata": {},
   "source": [
    "____"
   ]
  },
  {
   "cell_type": "markdown",
   "id": "3b52d209",
   "metadata": {},
   "source": [
    "Intenté hacer lo siguiente pero no funcionó y no entiendo porqué:"
   ]
  },
  {
   "cell_type": "code",
   "execution_count": 103,
   "id": "fcc5b715",
   "metadata": {},
   "outputs": [],
   "source": [
    "# Función para reemplazar el texto\n",
    "def replacetext(search_text,replace_text):\n",
    "    \n",
    "    with open('movies.txt','r+') as f:\n",
    "        \n",
    "        file = f.read()\n",
    "        file = re.sub(search_text, replace_text, file)\n",
    "        f.seek(0)\n",
    "        f.write(file)\n",
    "        f.truncate()\n",
    "    return \"Text replaced\""
   ]
  },
  {
   "cell_type": "code",
   "execution_count": 113,
   "id": "b3f362f2",
   "metadata": {},
   "outputs": [
    {
     "data": {
      "text/plain": [
       "'Text replaced'"
      ]
     },
     "execution_count": 113,
     "metadata": {},
     "output_type": "execute_result"
    }
   ],
   "source": [
    "\n",
    "replacetext(\"\"\"(\\d+)(:{2})([^(\\(\\d{4}\\))])(\\(\\d{4}\\))(:{2})(([a-zA-Z]+['s]*[|]*)+)\"\"\",r\"|\\1|\\2|\\3|\\4|\\5|\\6|\")\n"
   ]
  },
  {
   "cell_type": "code",
   "execution_count": 114,
   "id": "2bbe77b8",
   "metadata": {},
   "outputs": [
    {
     "name": "stdout",
     "output_type": "stream",
     "text": [
      "1::Toy Story (1995)::Animation|Children's|Comedy\n",
      "2::Jumanji (1995)::Adventure|Children's|Fantasy\n",
      "3::Grumpier Old Men (1995)::Comedy|Romance\n",
      "4::Waiting to Exhale (1995)::Comedy|Drama\n",
      "5::Father of the Bride Part II (1995)::Comedy\n",
      "6::Heat (1995)::Action|Crime|Thriller\n",
      "7::Sabrina (1995)::Comedy|Romance\n",
      "8::Tom and Huck (1995)::Adventure|Children's\n",
      "9::Sudden Death (1995)::Action\n",
      "10::GoldenEye (1995)::Action|Adventure|Thriller\n",
      "11::American President, The (1995)::Comedy|Drama|Romance\n",
      "12::Dracula: Dead and Loving It (1995)::Comedy|Horror\n",
      "13::Balto (1995)::Animation|Children's\n",
      "14::Nixon (1995)::Drama\n",
      "15::Cutthroat Island (1995)::Action|Adventure|Romance\n",
      "16::Casino (1995)::Drama|Thriller\n",
      "17::Sense and Sensibility (1995)::Drama|Romance\n",
      "18::Four Rooms (1995)::Thriller\n",
      "19::Ace Ventura: When Nature Calls (1995)::Comedy\n",
      "20::Money Train (1995)::Action\n",
      "21::Get Shorty (1995)::Action|Comedy|Drama\n",
      "22::Copycat (1995)::Crime|Drama|Thriller\n",
      "23::Assassins (1995)::Thriller\n",
      "24::Powder (1995)::Drama|Sci-Fi\n",
      "25::Leaving Las Vegas (1995):\n"
     ]
    }
   ],
   "source": [
    "#Esto lo hice para ver que todo funcionara bien\n",
    "with open('movies.txt','r+') as f:\n",
    "    file = f.read()\n",
    "    print(file[:1023])"
   ]
  },
  {
   "cell_type": "markdown",
   "id": "41028e1b",
   "metadata": {},
   "source": [
    "____"
   ]
  },
  {
   "cell_type": "markdown",
   "id": "c2e74209",
   "metadata": {},
   "source": [
    "- [ ] <span style=color:red><b>Exercici 3:</b></span>\n",
    "Mostra la teva creativitat. Què creus rellevant mostrar del Dataset \"_movies.dat_\" de l'exercici anterior?\n",
    "\n",
    "Fes una o dues representacions gràfiques i justifica la teva elecció."
   ]
  },
  {
   "cell_type": "code",
   "execution_count": null,
   "id": "c17f534a",
   "metadata": {},
   "outputs": [],
   "source": []
  }
 ],
 "metadata": {
  "kernelspec": {
   "display_name": "Python 3 (ipykernel)",
   "language": "python",
   "name": "python3"
  },
  "language_info": {
   "codemirror_mode": {
    "name": "ipython",
    "version": 3
   },
   "file_extension": ".py",
   "mimetype": "text/x-python",
   "name": "python",
   "nbconvert_exporter": "python",
   "pygments_lexer": "ipython3",
   "version": "3.9.7"
  }
 },
 "nbformat": 4,
 "nbformat_minor": 5
}
